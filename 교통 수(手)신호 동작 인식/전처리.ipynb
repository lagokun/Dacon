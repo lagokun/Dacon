{
 "cells": [
  {
   "cell_type": "code",
   "execution_count": 1,
   "metadata": {},
   "outputs": [],
   "source": [
    "import pandas as pd\n",
    "import numpy as np\n",
    "from glob import glob\n",
    "\n",
    "from PIL import Image\n",
    "import cv2\n",
    "from tqdm import tqdm\n",
    "\n",
    "\n",
    "import os\n",
    "import json\n",
    "\n",
    "import warnings\n",
    "warnings.filterwarnings(\"ignore\")\n",
    "warnings.simplefilter('ignore')\n",
    "import matplotlib.pyplot as plt\n"
   ]
  },
  {
   "cell_type": "code",
   "execution_count": 2,
   "metadata": {},
   "outputs": [],
   "source": [
    "data_path = ''\n",
    "\n",
    "train_path = data_path +'./train'\n",
    "\n",
    "test_path = data_path +'./test'\n",
    "\n",
    "new_image_directory = data_path + './new_images'\n",
    "\n",
    "new_train_image_directory = new_image_directory +'/train'\n",
    "\n",
    "new_test_image_directory = new_image_directory +'/test'"
   ]
  },
  {
   "cell_type": "code",
   "execution_count": 3,
   "metadata": {},
   "outputs": [],
   "source": [
    "def make_new_dir(path):\n",
    "    if os.path.isdir(path) == False:\n",
    "        os.makedirs(path)"
   ]
  },
  {
   "cell_type": "code",
   "execution_count": 4,
   "metadata": {},
   "outputs": [],
   "source": [
    "make_new_dir(new_image_directory)\n",
    "make_new_dir(new_train_image_directory)\n",
    "make_new_dir(new_test_image_directory)"
   ]
  },
  {
   "cell_type": "code",
   "execution_count": 5,
   "metadata": {},
   "outputs": [
    {
     "data": {
      "text/plain": [
       "array(['C:/AIFactory/ETC/교통수신호/json\\\\file_0.json',\n",
       "       'C:/AIFactory/ETC/교통수신호/json\\\\file_1.json',\n",
       "       'C:/AIFactory/ETC/교통수신호/json\\\\file_2.json',\n",
       "       'C:/AIFactory/ETC/교통수신호/json\\\\file_3.json',\n",
       "       'C:/AIFactory/ETC/교통수신호/json\\\\file_4.json'], dtype='<U41')"
      ]
     },
     "execution_count": 5,
     "metadata": {},
     "output_type": "execute_result"
    }
   ],
   "source": [
    "target = r\"C:/AIFactory/ETC/교통수신호/json/*\"\n",
    "json_path = np.array(sorted(glob(target), key = lambda x: int(x.split('/')[-1].split('_')[-1].split('.')[0])))\n",
    "json_path[:5]"
   ]
  },
  {
   "cell_type": "code",
   "execution_count": 6,
   "metadata": {},
   "outputs": [],
   "source": [
    "action_information = pd.read_csv('action_information.csv')"
   ]
  },
  {
   "cell_type": "code",
   "execution_count": 7,
   "metadata": {},
   "outputs": [
    {
     "data": {
      "text/html": [
       "<div>\n",
       "<style scoped>\n",
       "    .dataframe tbody tr th:only-of-type {\n",
       "        vertical-align: middle;\n",
       "    }\n",
       "\n",
       "    .dataframe tbody tr th {\n",
       "        vertical-align: top;\n",
       "    }\n",
       "\n",
       "    .dataframe thead th {\n",
       "        text-align: right;\n",
       "    }\n",
       "</style>\n",
       "<table border=\"1\" class=\"dataframe\">\n",
       "  <thead>\n",
       "    <tr style=\"text-align: right;\">\n",
       "      <th></th>\n",
       "      <th>action</th>\n",
       "      <th>Label</th>\n",
       "    </tr>\n",
       "  </thead>\n",
       "  <tbody>\n",
       "    <tr>\n",
       "      <th>0</th>\n",
       "      <td>우측에서 좌측으로</td>\n",
       "      <td>0</td>\n",
       "    </tr>\n",
       "    <tr>\n",
       "      <th>1</th>\n",
       "      <td>전방정지</td>\n",
       "      <td>1</td>\n",
       "    </tr>\n",
       "    <tr>\n",
       "      <th>2</th>\n",
       "      <td>전후방 동시정지</td>\n",
       "      <td>2</td>\n",
       "    </tr>\n",
       "    <tr>\n",
       "      <th>3</th>\n",
       "      <td>좌우측방 동시정지</td>\n",
       "      <td>3</td>\n",
       "    </tr>\n",
       "    <tr>\n",
       "      <th>4</th>\n",
       "      <td>좌측에서 우측으로</td>\n",
       "      <td>4</td>\n",
       "    </tr>\n",
       "    <tr>\n",
       "      <th>5</th>\n",
       "      <td>후방정지</td>\n",
       "      <td>5</td>\n",
       "    </tr>\n",
       "  </tbody>\n",
       "</table>\n",
       "</div>"
      ],
      "text/plain": [
       "      action  Label\n",
       "0  우측에서 좌측으로      0\n",
       "1       전방정지      1\n",
       "2   전후방 동시정지      2\n",
       "3  좌우측방 동시정지      3\n",
       "4  좌측에서 우측으로      4\n",
       "5       후방정지      5"
      ]
     },
     "execution_count": 7,
     "metadata": {},
     "output_type": "execute_result"
    }
   ],
   "source": [
    "action_information"
   ]
  },
  {
   "cell_type": "code",
   "execution_count": 8,
   "metadata": {},
   "outputs": [
    {
     "data": {
      "text/plain": [
       "array([[1, 0, 0, 0, 0, 0],\n",
       "       [0, 1, 0, 0, 0, 0],\n",
       "       [0, 0, 1, 0, 0, 0],\n",
       "       [0, 0, 0, 1, 0, 0],\n",
       "       [0, 0, 0, 0, 1, 0],\n",
       "       [0, 0, 0, 0, 0, 1]], dtype=uint8)"
      ]
     },
     "execution_count": 8,
     "metadata": {},
     "output_type": "execute_result"
    }
   ],
   "source": [
    "classes = pd.get_dummies(action_information[['Label']], columns = ['Label']).to_numpy()\n",
    "classes"
   ]
  },
  {
   "cell_type": "code",
   "execution_count": 9,
   "metadata": {},
   "outputs": [],
   "source": [
    "train_directories = np.array(sorted(glob(train_path + '/**'), key = lambda x: int(x.split('/')[-1].split('_')[-1])))"
   ]
  },
  {
   "cell_type": "code",
   "execution_count": 11,
   "metadata": {},
   "outputs": [
    {
     "name": "stderr",
     "output_type": "stream",
     "text": [
      "142it [15:32,  6.57s/it]\n"
     ]
    }
   ],
   "source": [
    "for i, train_directory in tqdm(enumerate(train_directories)) : \n",
    "    file_name = train_directory.split('/')[-1].split('\\\\')[-1]\n",
    "    make_new_dir(new_train_image_directory + '/'+file_name)\n",
    "    \n",
    "    image_paths = sorted(glob(train_directory + '/*.jpg'), key = lambda x: int(x.split('\\\\')[-1].split('.')[0]))\n",
    "    \n",
    "    target = r\"C:/AIFactory/ETC/교통수신호/json/*\"\n",
    "    json_path = np.array(sorted(glob(target), key = lambda x: int(x.split('/')[-1].split('_')[-1].split('.')[0])))\n",
    "    js_path= json_path[i]\n",
    "    js = json.load(open(js_path))\n",
    "    \n",
    "    target = js.get('action')\n",
    "    target = classes[target]\n",
    "    bounding_boxes = js.get('sequence').get('bounding_box')\n",
    "    bounding_boxes = [(float(a),float(b),float(c),float(d)) for a,b,c,d in bounding_boxes] \n",
    "\n",
    "    for image_path, bounding_box in zip(image_paths, bounding_boxes) : \n",
    "        image = Image.open(image_path)\n",
    "        image = image.crop(bounding_box)\n",
    "        image = image.resize((224,224))\n",
    "        image.save(new_train_image_directory + image_path.split('/train')[1])       "
   ]
  },
  {
   "cell_type": "code",
   "execution_count": 13,
   "metadata": {},
   "outputs": [],
   "source": [
    "test_directories = np.array(sorted(glob(test_path + '/**'), key = lambda x: int(x.split('/')[-1].split('_')[-1])))"
   ]
  },
  {
   "cell_type": "code",
   "execution_count": 14,
   "metadata": {},
   "outputs": [
    {
     "name": "stderr",
     "output_type": "stream",
     "text": [
      "45it [03:58,  5.29s/it]\n"
     ]
    }
   ],
   "source": [
    "for i, test_directory in tqdm(enumerate(test_directories)) : \n",
    "    file_name = test_directory.split('/')[-1].split('\\\\')[-1]\n",
    "    make_new_dir(new_test_image_directory + '/'+file_name)\n",
    "    \n",
    "    image_paths = sorted(glob(test_directory + '/*.jpg'), key = lambda x: int(x.split('\\\\')[-1].split('.')[0]))\n",
    "    \n",
    "    target = r\"C:/AIFactory/ETC/교통수신호/json1/*\"\n",
    "    json_path = np.array(sorted(glob(target), key = lambda x: int(x.split('/')[-1].split('_')[-1].split('.')[0])))\n",
    "    js_path= json_path[i]\n",
    "    js = json.load(open(js_path))\n",
    "    \n",
    "    target = js.get('action')\n",
    "    target = classes[target]\n",
    "    bounding_boxes = js.get('sequence').get('bounding_box')\n",
    "    bounding_boxes = [(float(a),float(b),float(c),float(d)) for a,b,c,d in bounding_boxes] \n",
    "\n",
    "    for image_path, bounding_box in zip(image_paths, bounding_boxes) : \n",
    "        image = Image.open(image_path)\n",
    "        image = image.crop(bounding_box)\n",
    "        image = image.resize((224,224))\n",
    "        image.save(new_test_image_directory + image_path.split('/test')[1])   "
   ]
  },
  {
   "cell_type": "code",
   "execution_count": null,
   "metadata": {},
   "outputs": [],
   "source": []
  }
 ],
 "metadata": {
  "kernelspec": {
   "display_name": "Python 3",
   "language": "python",
   "name": "python3"
  },
  "language_info": {
   "codemirror_mode": {
    "name": "ipython",
    "version": 3
   },
   "file_extension": ".py",
   "mimetype": "text/x-python",
   "name": "python",
   "nbconvert_exporter": "python",
   "pygments_lexer": "ipython3",
   "version": "3.8.7"
  }
 },
 "nbformat": 4,
 "nbformat_minor": 4
}
